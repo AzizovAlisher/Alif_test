{
 "cells": [
  {
   "cell_type": "code",
   "execution_count": 1,
   "metadata": {},
   "outputs": [],
   "source": [
    "from python import *\n",
    "booking = OfficeBooking(host='127.0.0.1', user='root', password='12345678', db='office_database')\n"
   ]
  },
  {
   "cell_type": "code",
   "execution_count": 2,
   "metadata": {},
   "outputs": [
    {
     "data": {
      "text/plain": [
       "12"
      ]
     },
     "execution_count": 2,
     "metadata": {},
     "output_type": "execute_result"
    }
   ],
   "source": [
    "availability = booking.check_availability('Conference Room 1', '2022-02-11 11:30', '2022-12-21 12:30:00')\n",
    "availability"
   ]
  },
  {
   "cell_type": "code",
   "execution_count": 3,
   "metadata": {},
   "outputs": [
    {
     "name": "stdout",
     "output_type": "stream",
     "text": [
      "Комната Conference Room 1 зарезервированна за alisher@gmail.com, с 2022-02-11 11:30 до 2022-12-21 12:30:00\n"
     ]
    }
   ],
   "source": [
    "booking.book_office(\"1\", \"Conference Room 1\", \"2022-02-11 11:30\", \"2022-12-21 12:30:00\", \"Alisher\", \"alisher@gmail.com\", \"9239238922\")"
   ]
  },
  {
   "cell_type": "code",
   "execution_count": 4,
   "metadata": {},
   "outputs": [
    {
     "data": {
      "text/plain": [
       "{'person_id': 1,\n",
       " 'office_number': 'Conference Room 1',\n",
       " 'start_time': datetime.datetime(2022, 12, 21, 10, 30),\n",
       " 'end_time': datetime.datetime(2022, 12, 21, 11, 30),\n",
       " 'occupied_name': 'Alisher',\n",
       " 'occupied_email': 'messi',\n",
       " 'occupied_phone': '9239422832'}"
      ]
     },
     "execution_count": 4,
     "metadata": {},
     "output_type": "execute_result"
    }
   ],
   "source": [
    "x = booking.get_occupant('Conference Room 1', '2022-12-21 10:30:00', '2022-12-21 11:30:00')\n",
    "x"
   ]
  },
  {
   "cell_type": "code",
   "execution_count": 5,
   "metadata": {},
   "outputs": [
    {
     "name": "stdout",
     "output_type": "stream",
     "text": [
      "Комната Conference Room 1 зарезервированна за alisher@gmail.com, с 2022-02-11 11:30 до 2022-12-21 12:30:00\n"
     ]
    }
   ],
   "source": [
    "booking.do_all(\"1\", \"Conference Room 1\", \"2022-02-11 11:30\", \"2022-12-21 12:30:00\", \"Alisher\", \"alisher@gmail.com\", \"9239238922\")"
   ]
  },
  {
   "cell_type": "code",
   "execution_count": null,
   "metadata": {},
   "outputs": [],
   "source": []
  }
 ],
 "metadata": {
  "kernelspec": {
   "display_name": "base",
   "language": "python",
   "name": "python3"
  },
  "language_info": {
   "codemirror_mode": {
    "name": "ipython",
    "version": 3
   },
   "file_extension": ".py",
   "mimetype": "text/x-python",
   "name": "python",
   "nbconvert_exporter": "python",
   "pygments_lexer": "ipython3",
   "version": "3.9.12"
  },
  "orig_nbformat": 4,
  "vscode": {
   "interpreter": {
    "hash": "691b0eb736ced934836f2d140e972689f9e6f412c8ac2925f2d19750aabb0bd7"
   }
  }
 },
 "nbformat": 4,
 "nbformat_minor": 2
}
